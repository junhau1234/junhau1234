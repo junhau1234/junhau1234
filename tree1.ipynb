{
 "cells": [
  {
   "cell_type": "code",
   "execution_count": 1,
   "metadata": {},
   "outputs": [
    {
     "name": "stdout",
     "output_type": "stream",
     "text": [
      "package 'tree' successfully unpacked and MD5 sums checked\n",
      "\n",
      "The downloaded binary packages are in\n",
      "\tC:\\Users\\JunHau96\\AppData\\Local\\Temp\\RtmpusJ7jU\\downloaded_packages\n"
     ]
    },
    {
     "name": "stderr",
     "output_type": "stream",
     "text": [
      "Warning message:\n",
      "\"package 'tree' was built under R version 3.6.3\""
     ]
    }
   ],
   "source": [
    "install.packages(\"tree\")\n",
    "library(tree)\n",
    "set.seed(123)\n",
    "setwd(\"C:/Users/JunHau96/Documents/PM_Assignment\")\n",
    "kd_cleaned = read.csv(\"cleaned_csv_result-chronic_kidney_disease_full.csv\")"
   ]
  },
  {
   "cell_type": "code",
   "execution_count": 2,
   "metadata": {},
   "outputs": [],
   "source": [
    "data1 = sort(sample(nrow(kd_cleaned), nrow(kd_cleaned)*.7))\n",
    "#creating training data set by selecting the output row values\n",
    "kd_train=kd_cleaned[data1,]\n",
    "\n",
    "#creating test data set by not selecting the output row values\n",
    "kd_test=kd_cleaned[-data1,]\n",
    "\n",
    "tree_train=kd_train\n",
    "tree_test=kd_test\n"
   ]
  },
  {
   "cell_type": "code",
   "execution_count": 3,
   "metadata": {
    "scrolled": true
   },
   "outputs": [
    {
     "name": "stdout",
     "output_type": "stream",
     "text": [
      "'data.frame':\t280 obs. of  22 variables:\n",
      " $ X       : int  2 4 5 7 9 10 11 13 14 16 ...\n",
      " $ X.age.  : int  7 48 51 68 52 53 50 68 68 40 ...\n",
      " $ X.bp.   : int  50 70 80 70 100 90 60 70 70 80 ...\n",
      " $ X.sg.   : num  1.02 1 1.01 1.01 1.01 ...\n",
      " $ X.al.   : int  4 4 2 0 3 2 2 3 3 3 ...\n",
      " $ X.su.   : int  0 0 0 0 0 0 4 1 0 0 ...\n",
      " $ X.pc.   : int  1 0 1 1 0 0 0 1 1 1 ...\n",
      " $ X.pcc.  : int  0 1 0 0 1 1 1 1 0 0 ...\n",
      " $ X.ba.   : int  0 0 0 0 0 0 0 0 0 0 ...\n",
      " $ X.bgr.  : int  99 117 106 100 138 70 490 208 98 76 ...\n",
      " $ X.bu.   : num  18 56 26 54 60 107 55 72 86 162 ...\n",
      " $ sc.     : num  0.8 3.8 1.4 24 1.9 7.2 4 2.1 4.6 9.6 ...\n",
      " $ X.sod.  : num  135 111 135 104 135 114 135 138 135 141 ...\n",
      " $ X.hemo. : num  11.3 11.2 11.6 12.4 10.8 9.5 9.4 9.7 9.8 7.6 ...\n",
      " $ X.pcv.  : int  38 32 35 36 33 29 28 28 52 24 ...\n",
      " $ X.htn.  : int  0 1 0 0 1 1 1 1 1 1 ...\n",
      " $ X.dm.   : int  0 0 0 0 1 1 1 1 1 0 ...\n",
      " $ X.cad.  : int  0 0 0 0 0 0 0 1 1 0 ...\n",
      " $ X.appet.: int  1 0 1 1 1 0 1 0 0 1 ...\n",
      " $ X.pe.   : int  0 1 0 0 0 0 0 1 1 0 ...\n",
      " $ X.ane.  : int  0 1 0 0 1 1 1 0 0 1 ...\n",
      " $ X.class.: int  1 1 1 1 1 1 1 1 1 1 ...\n"
     ]
    }
   ],
   "source": [
    "str(kd_train)"
   ]
  },
  {
   "cell_type": "code",
   "execution_count": 4,
   "metadata": {},
   "outputs": [],
   "source": [
    "tree.model=tree(X.class.~.-X,data=tree_train,control=tree.control(nobs=nrow(kd_train),minsize=1))"
   ]
  },
  {
   "cell_type": "code",
   "execution_count": 5,
   "metadata": {},
   "outputs": [
    {
     "name": "stdout",
     "output_type": "stream",
     "text": [
      "node), split, n, deviance, yval\n",
      "      * denotes terminal node\n",
      "\n",
      " 1) root 280 66.790 0.607100  \n",
      "   2) sc. < 1.25 144 25.970 0.236100  \n",
      "     4) X.sg. < 1.0175 25  0.000 1.000000 *\n",
      "     5) X.sg. > 1.0175 119  8.319 0.075630  \n",
      "      10) X.hemo. < 12.85 7  0.000 1.000000 *\n",
      "      11) X.hemo. > 12.85 112  1.964 0.017860  \n",
      "        22) X.age. < 10 1  0.000 1.000000 *\n",
      "        23) X.age. > 10 111  0.991 0.009009  \n",
      "          46) X.su. < 1 110  0.000 0.000000 *\n",
      "          47) X.su. > 1 1  0.000 1.000000 *\n",
      "   3) sc. > 1.25 136  0.000 1.000000 *\n"
     ]
    }
   ],
   "source": [
    "print(tree.model)"
   ]
  },
  {
   "cell_type": "code",
   "execution_count": 6,
   "metadata": {},
   "outputs": [
    {
     "data": {
      "text/plain": [
       "\n",
       "Regression tree:\n",
       "tree(formula = X.class. ~ . - X, data = tree_train, control = tree.control(nobs = nrow(kd_train), \n",
       "    minsize = 1))\n",
       "Variables actually used in tree construction:\n",
       "[1] \"sc.\"     \"X.sg.\"   \"X.hemo.\" \"X.age.\"  \"X.su.\"  \n",
       "Number of terminal nodes:  6 \n",
       "Residual mean deviance:  0 = 0 / 274 \n",
       "Distribution of residuals:\n",
       "   Min. 1st Qu.  Median    Mean 3rd Qu.    Max. \n",
       "      0       0       0       0       0       0 "
      ]
     },
     "metadata": {},
     "output_type": "display_data"
    }
   ],
   "source": [
    "summary(tree.model)"
   ]
  },
  {
   "cell_type": "code",
   "execution_count": 7,
   "metadata": {},
   "outputs": [
    {
     "data": {
      "text/plain": [
       "node), split, n, deviance, yval\n",
       "      * denotes terminal node\n",
       "\n",
       " 1) root 280 66.790 0.607100  \n",
       "   2) sc. < 1.25 144 25.970 0.236100  \n",
       "     4) X.sg. < 1.0175 25  0.000 1.000000 *\n",
       "     5) X.sg. > 1.0175 119  8.319 0.075630  \n",
       "      10) X.hemo. < 12.85 7  0.000 1.000000 *\n",
       "      11) X.hemo. > 12.85 112  1.964 0.017860  \n",
       "        22) X.age. < 10 1  0.000 1.000000 *\n",
       "        23) X.age. > 10 111  0.991 0.009009  \n",
       "          46) X.su. < 1 110  0.000 0.000000 *\n",
       "          47) X.su. > 1 1  0.000 1.000000 *\n",
       "   3) sc. > 1.25 136  0.000 1.000000 *"
      ]
     },
     "metadata": {},
     "output_type": "display_data"
    },
    {
     "data": {
      "image/png": "[encoded data removed]",
      "text/plain": [
       "plot without title"
      ]
     },
     "metadata": {},
     "output_type": "display_data"
    }
   ],
   "source": [
    "plot(tree.model)\n",
    "text(tree.model,cex=0.8)\n",
    "tree.model"
   ]
  },
  {
   "cell_type": "code",
   "execution_count": 8,
   "metadata": {},
   "outputs": [],
   "source": [
    "tree.pred = predict(tree.model, tree_test)"
   ]
  },
  {
   "cell_type": "code",
   "execution_count": 9,
   "metadata": {},
   "outputs": [
    {
     "data": {
      "text/plain": [
       "         \n",
       "tree.pred  0  1\n",
       "        0 40  3\n",
       "        1  0 77"
      ]
     },
     "metadata": {},
     "output_type": "display_data"
    }
   ],
   "source": [
    "tree.table=table(tree.pred,tree_test$X.class.)\n",
    "tree.table"
   ]
  },
  {
   "cell_type": "code",
   "execution_count": 10,
   "metadata": {},
   "outputs": [],
   "source": [
    "performance = function(tab, desc=\"Confusion matrix and perfomance for Decision Tree\"){\n",
    "    cat(desc,\"\\n\")\n",
    "    ACR = sum(diag(tab))/sum(tab)\n",
    "    TPR = tab[1,1]/sum(tab[,1]); TNR = tab[2,2]/sum(tab[,2])\n",
    "    PPV = tab[1,1]/sum(tab[1,]); NPV = tab[2,2]/sum(tab[2,])\n",
    "    FPR = 1 - TNR                ; FNR = 1 - TPR\n",
    "    RandomAccuracy = (sum(tab[,2])*sum(tab[2,]) + sum(tab[,1])*sum(tab[1,]))/(sum(tab)^2)\n",
    "    Kappa = (ACR - RandomAccuracy)/(1 - RandomAccuracy)\n",
    "    print(tab)\n",
    "    cat(\"\\n      Accuracy :\", ACR, \"\\n\\n         Kappa :\", Kappa, \"\\n\")\n",
    "    cat(\"\\n   Sensitivity :\", TPR,   \"\\n   Specificity :\", TNR, \"\\n\")\n",
    "    cat(\"Pos Pred Value :\", PPV,     \"\\nNeg Pred Value :\", NPV, \"\\n\")\n",
    "    cat(\"           FPR :\", FPR,     \"\\n           FNR :\", FNR, \"\\n\")\n",
    "}"
   ]
  },
  {
   "cell_type": "code",
   "execution_count": null,
   "metadata": {},
   "outputs": [],
   "source": []
  },
  {
   "cell_type": "code",
   "execution_count": 11,
   "metadata": {},
   "outputs": [
    {
     "name": "stdout",
     "output_type": "stream",
     "text": [
      "Confusion matrix and perfomance for Decision Tree \n",
      "         \n",
      "tree.pred  0  1\n",
      "        0 40  3\n",
      "        1  0 77\n",
      "\n",
      "      Accuracy : 0.975 \n",
      "\n",
      "         Kappa : 0.9447853 \n",
      "\n",
      "   Sensitivity : 1 \n",
      "   Specificity : 0.9625 \n",
      "Pos Pred Value : 0.9302326 \n",
      "Neg Pred Value : 1 \n",
      "           FPR : 0.0375 \n",
      "           FNR : 0 \n"
     ]
    }
   ],
   "source": [
    "performance(tree.table)"
   ]
  },
  {
   "cell_type": "code",
   "execution_count": 27,
   "metadata": {},
   "outputs": [
    {
     "data": {
      "text/plain": [
       "           \n",
       "tree.d1pred  0  1\n",
       "          0 40  3\n",
       "          1  0 77"
      ]
     },
     "metadata": {},
     "output_type": "display_data"
    },
    {
     "data": {
      "image/png": "[encoded data removed]",
      "text/plain": [
       "plot without title"
      ]
     },
     "metadata": {},
     "output_type": "display_data"
    }
   ],
   "source": [
    "set.seed(123)\n",
    "prune.d1 = prune.tree(tree.model,best=5) #prune the decision tree with the misclassification rate (model, how large do you want your decision tree to be, best means no of terminal nodes)\n",
    "plot(prune.d1)\n",
    "text(prune.d1,cex=0.8)\n",
    "tree.d1pred = predict(prune.d1,tree_test)\n",
    "table(tree.d1pred,tree_test$X.class.)\n"
   ]
  },
  {
   "cell_type": "code",
   "execution_count": 18,
   "metadata": {},
   "outputs": [
    {
     "data": {
      "text/plain": [
       "NULL"
      ]
     },
     "metadata": {},
     "output_type": "display_data"
    }
   ],
   "source": [
    "row1"
   ]
  },
  {
   "cell_type": "code",
   "execution_count": 19,
   "metadata": {},
   "outputs": [
    {
     "data": {
      "text/plain": [
       "NULL"
      ]
     },
     "metadata": {},
     "output_type": "display_data"
    }
   ],
   "source": [
    "row2"
   ]
  },
  {
   "cell_type": "code",
   "execution_count": 20,
   "metadata": {},
   "outputs": [
    {
     "data": {
      "text/plain": [
       "node), split, n, deviance, yval\n",
       "      * denotes terminal node\n",
       "\n",
       " 1) root 280 66.790 0.60710  \n",
       "   2) sc. < 1.25 144 25.970 0.23610  \n",
       "     4) X.sg. < 1.0175 25  0.000 1.00000 *\n",
       "     5) X.sg. > 1.0175 119  8.319 0.07563  \n",
       "      10) X.hemo. < 12.85 7  0.000 1.00000 *\n",
       "      11) X.hemo. > 12.85 112  1.964 0.01786 *\n",
       "   3) sc. > 1.25 136  0.000 1.00000 *"
      ]
     },
     "metadata": {},
     "output_type": "display_data"
    }
   ],
   "source": [
    "prune"
   ]
  },
  {
   "cell_type": "code",
   "execution_count": null,
   "metadata": {},
   "outputs": [],
   "source": []
  }
 ],
 "metadata": {
  "kernelspec": {
   "display_name": "R",
   "language": "R",
   "name": "ir"
  },
  "language_info": {
   "codemirror_mode": "r",
   "file_extension": ".r",
   "mimetype": "text/x-r-source",
   "name": "R",
   "pygments_lexer": "r",
   "version": "3.6.1"
  }
 },
 "nbformat": 4,
 "nbformat_minor": 4
}
