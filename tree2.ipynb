{
 "cells": [
  {
   "cell_type": "markdown",
   "metadata": {},
   "source": [
    "## Decision Tree"
   ]
  },
  {
   "cell_type": "code",
   "execution_count": 1,
   "metadata": {},
   "outputs": [
    {
     "name": "stdout",
     "output_type": "stream",
     "text": [
      "package 'rpart' successfully unpacked and MD5 sums checked\n",
      "\n",
      "The downloaded binary packages are in\n",
      "\tC:\\Users\\JunHau96\\AppData\\Local\\Temp\\RtmpgJUTuC\\downloaded_packages\n"
     ]
    },
    {
     "name": "stderr",
     "output_type": "stream",
     "text": [
      "Warning message:\n",
      "\"package 'rpart' was built under R version 3.6.3\""
     ]
    }
   ],
   "source": [
    "install.packages(\"rpart\")\n",
    "#library need \n",
    "library(rpart)\n",
    "set.seed(123)\n",
    "setwd(\"C:/Users/JunHau96/Documents/PM_Assignment\")\n",
    "kd_cleaned = read.csv(\"cleaned_csv_result-chronic_kidney_disease_full.csv\")"
   ]
  },
  {
   "cell_type": "code",
   "execution_count": 2,
   "metadata": {},
   "outputs": [],
   "source": [
    "data1 = sort(sample(nrow(kd_cleaned), nrow(kd_cleaned)*.7))\n",
    "#creating training data set by selecting the output row values\n",
    "kd_train=kd_cleaned[data1,]\n",
    "\n",
    "#creating test data set by not selecting the output row values\n",
    "kd_test=kd_cleaned[-data1,]\n",
    "tree_train=kd_train\n",
    "tree_test=kd_test"
   ]
  },
  {
   "cell_type": "code",
   "execution_count": 3,
   "metadata": {},
   "outputs": [],
   "source": [
    "dt=rpart(X.class.~.,data=tree_train,control=rpart.control(minsplit=2,minbucket=1,cp=0.001))"
   ]
  },
  {
   "cell_type": "code",
   "execution_count": 4,
   "metadata": {},
   "outputs": [
    {
     "name": "stdout",
     "output_type": "stream",
     "text": [
      "n= 280 \n",
      "\n",
      "node), split, n, deviance, yval\n",
      "      * denotes terminal node\n",
      "\n",
      " 1) root 280 66.785710 0.607142900  \n",
      "   2) sc.< 1.25 144 25.972220 0.236111100  \n",
      "     4) X.sg.>=1.0175 119  8.319328 0.075630250  \n",
      "       8) X.hemo.>=12.85 112  1.964286 0.017857140  \n",
      "        16) X.al.< 2 111  0.990991 0.009009009  \n",
      "          32) X.su.< 1 110  0.000000 0.000000000 *\n",
      "          33) X.su.>=1 1  0.000000 1.000000000 *\n",
      "        17) X.al.>=2 1  0.000000 1.000000000 *\n",
      "       9) X.hemo.< 12.85 7  0.000000 1.000000000 *\n",
      "     5) X.sg.< 1.0175 25  0.000000 1.000000000 *\n",
      "   3) sc.>=1.25 136  0.000000 1.000000000 *\n"
     ]
    }
   ],
   "source": [
    "print(dt)"
   ]
  },
  {
   "cell_type": "code",
   "execution_count": 5,
   "metadata": {},
   "outputs": [
    {
     "data": {
      "image/png": "[encoded data removed]",
      "text/plain": [
       "plot without title"
      ]
     },
     "metadata": {},
     "output_type": "display_data"
    }
   ],
   "source": [
    "#plot decision tree\n",
    "plot(dt)\n",
    "text(dt,cex=0.8)"
   ]
  },
  {
   "cell_type": "code",
   "execution_count": 6,
   "metadata": {},
   "outputs": [],
   "source": [
    "tree.pred = predict(dt, tree_test)"
   ]
  },
  {
   "cell_type": "code",
   "execution_count": 7,
   "metadata": {},
   "outputs": [],
   "source": [
    "#Finding the confusion matrix for decision tree\n",
    "confusion_table=table(tree.pred,tree_test$X.class.)\n",
    "Accuracy=sum(diag(confusion_table))/sum(confusion_table)\n",
    "Sensitivity=confusion_table[1,1]/sum(confusion_table[,1])\n",
    "Specificity=confusion_table[2,2]/sum(confusion_table[,2])\n",
    "PPV=confusion_table[1,1]/sum(confusion_table[1,])\n",
    "NPV=confusion_table[2,2]/sum(confusion_table[2,])\n",
    "FPR=1-Specificity\n",
    "FNR=1-Sensitivity\n"
   ]
  },
  {
   "cell_type": "code",
   "execution_count": 8,
   "metadata": {},
   "outputs": [
    {
     "name": "stdout",
     "output_type": "stream",
     "text": [
      "Confusion Matrix for Decision Tree\n"
     ]
    },
    {
     "data": {
      "text/plain": [
       "         \n",
       "tree.pred  0  1\n",
       "        0 40  2\n",
       "        1  0 78"
      ]
     },
     "metadata": {},
     "output_type": "display_data"
    },
    {
     "name": "stdout",
     "output_type": "stream",
     "text": [
      "Accuracy: 0.9833333 \n",
      "Sensitivity: 1 \n",
      "Specificity: 0.975 \n",
      "Positive Predictive Value(PPV): 0.952381 \n",
      "Negative Predictive Value(NPV): 1 \n",
      "False Positive Rate: 0.025 \n",
      "False Negative Rate: 0 \n"
     ]
    }
   ],
   "source": [
    "cat(\"Confusion Matrix for Decision Tree\\n\")\n",
    "confusion_table\n",
    "cat(\"Accuracy:\",Accuracy,\"\\n\")\n",
    "cat(\"Sensitivity:\",Sensitivity,\"\\n\")\n",
    "cat(\"Specificity:\",Specificity,\"\\n\")\n",
    "cat(\"Positive Predictive Value(PPV):\",PPV,\"\\n\")\n",
    "cat(\"Negative Predictive Value(NPV):\",NPV,\"\\n\")\n",
    "cat(\"False Positive Rate:\",FPR,\"\\n\")\n",
    "cat(\"False Negative Rate:\",FNR,\"\\n\")"
   ]
  },
  {
   "cell_type": "code",
   "execution_count": 9,
   "metadata": {},
   "outputs": [
    {
     "name": "stdout",
     "output_type": "stream",
     "text": [
      "\n",
      "Regression tree:\n",
      "rpart(formula = X.class. ~ ., data = tree_train, control = rpart.control(minsplit = 2, \n",
      "    minbucket = 1, cp = 0.001))\n",
      "\n",
      "Variables actually used in tree construction:\n",
      "[1] sc.     X.al.   X.hemo. X.sg.   X.su.  \n",
      "\n",
      "Root node error: 66.786/280 = 0.23852\n",
      "\n",
      "n= 280 \n",
      "\n",
      "        CP nsplit rel error   xerror     xstd\n",
      "1 0.611111      0  1.000000 1.005017 0.026418\n",
      "2 0.264321      1  0.388889 0.444494 0.049703\n",
      "3 0.095156      2  0.124567 0.152593 0.042618\n",
      "4 0.014706      3  0.029412 0.044266 0.025108\n",
      "5 0.001000      5  0.000000 0.044920 0.025795\n"
     ]
    },
    {
     "data": {
      "image/png": "[encoded data removed]",
      "text/plain": [
       "plot without title"
      ]
     },
     "metadata": {},
     "output_type": "display_data"
    }
   ],
   "source": [
    "#Determine the optimum value cp for postpruning process\n",
    "printcp(dt)\n",
    "\n",
    "plotcp(dt)"
   ]
  },
  {
   "cell_type": "markdown",
   "metadata": {},
   "source": [
    "## Decision Tree Pruning\n"
   ]
  },
  {
   "cell_type": "markdown",
   "metadata": {},
   "source": [
    "Prepruning"
   ]
  },
  {
   "cell_type": "code",
   "execution_count": 10,
   "metadata": {},
   "outputs": [
    {
     "data": {
      "image/png": "[encoded data removed]",
      "text/plain": [
       "plot without title"
      ]
     },
     "metadata": {},
     "output_type": "display_data"
    }
   ],
   "source": [
    "# Grow a tree with minsplit of 4 for prepruning\n",
    "\n",
    "tree_model_preprun <- rpart(X.class.~., data = tree_train, control = rpart.control(minsplit=4))\n",
    "#plot decision tree after prepruning\n",
    "plot(tree_model_preprun)\n",
    "text(tree_model_preprun,cex=0.8)"
   ]
  },
  {
   "cell_type": "code",
   "execution_count": 11,
   "metadata": {},
   "outputs": [],
   "source": [
    "preprun.pred<-predict(tree_model_preprun,tree_test)"
   ]
  },
  {
   "cell_type": "code",
   "execution_count": 12,
   "metadata": {},
   "outputs": [],
   "source": [
    "#Finding the confusion matrix for decision tree after prepruning\n",
    "preprun.tab=table(preprun.pred,tree_test$X.class.)\n",
    "Accuracy=sum(diag(preprun.tab))/sum(preprun.tab)\n",
    "Sensitivity=preprun.tab[1,1]/sum(preprun.tab[,1])\n",
    "Specificity=preprun.tab[2,2]/sum(preprun.tab[,2])\n",
    "PPV=preprun.tab[1,1]/sum(preprun.tab[1,])\n",
    "NPV=preprun.tab[2,2]/sum(preprun.tab[2,])\n",
    "FPR=1-Specificity\n",
    "FNR=1-Sensitivity\n"
   ]
  },
  {
   "cell_type": "code",
   "execution_count": 13,
   "metadata": {},
   "outputs": [
    {
     "name": "stdout",
     "output_type": "stream",
     "text": [
      "Confusion Matrix for Decision Tree after prepruning\n"
     ]
    },
    {
     "data": {
      "text/plain": [
       "            \n",
       "preprun.pred  0  1\n",
       "           0 40  2\n",
       "           1  0 78"
      ]
     },
     "metadata": {},
     "output_type": "display_data"
    },
    {
     "name": "stdout",
     "output_type": "stream",
     "text": [
      "Accuracy: 0.9833333 \n",
      "Sensitivity: 1 \n",
      "Specificity: 0.975 \n",
      "Positive Predictive Value(PPV): 0.952381 \n",
      "Negative Predictive Value(NPV): 1 \n",
      "False Positive Rate: 0.025 \n",
      "False Negative Rate: 0 \n"
     ]
    }
   ],
   "source": [
    "cat(\"Confusion Matrix for Decision Tree after prepruning\\n\")\n",
    "preprun.tab\n",
    "cat(\"Accuracy:\",Accuracy,\"\\n\")\n",
    "cat(\"Sensitivity:\",Sensitivity,\"\\n\")\n",
    "cat(\"Specificity:\",Specificity,\"\\n\")\n",
    "cat(\"Positive Predictive Value(PPV):\",PPV,\"\\n\")\n",
    "cat(\"Negative Predictive Value(NPV):\",NPV,\"\\n\")\n",
    "cat(\"False Positive Rate:\",FPR,\"\\n\")\n",
    "cat(\"False Negative Rate:\",FNR,\"\\n\")"
   ]
  },
  {
   "cell_type": "markdown",
   "metadata": {},
   "source": [
    "Postpruning of tree"
   ]
  },
  {
   "cell_type": "code",
   "execution_count": 14,
   "metadata": {},
   "outputs": [
    {
     "data": {
      "image/png": "[encoded data removed]",
      "text/plain": [
       "plot without title"
      ]
     },
     "metadata": {},
     "output_type": "display_data"
    }
   ],
   "source": [
    "# Prune the tree based on the optimal cp value\n",
    "tree_post_pruned <- prune(dt, cp = 0.0038 )\n",
    "#plot decision tree after postpruning\n",
    "plot(tree_post_pruned)\n",
    "text(tree_post_pruned,cex=0.8)\n",
    "\n",
    "postprun.pred <- predict(tree_post_pruned,tree_test)"
   ]
  },
  {
   "cell_type": "code",
   "execution_count": 15,
   "metadata": {},
   "outputs": [],
   "source": [
    "#Finding the confusion matrix for decision tree after prepruning\n",
    "postprun.tab=table(postprun.pred,tree_test$X.class.)\n",
    "Accuracy=sum(diag(postprun.tab))/sum(postprun.tab)\n",
    "Sensitivity=postprun.tab[1,1]/sum(postprun.tab[,1])\n",
    "Specificity=postprun.tab[2,2]/sum(postprun.tab[,2])\n",
    "PPV=postprun.tab[1,1]/sum(postprun.tab[1,])\n",
    "NPV=postprun.tab[2,2]/sum(postprun.tab[2,])\n",
    "FPR=1-Specificity\n",
    "FNR=1-Sensitivity\n"
   ]
  },
  {
   "cell_type": "code",
   "execution_count": 16,
   "metadata": {},
   "outputs": [
    {
     "name": "stdout",
     "output_type": "stream",
     "text": [
      "Confusion Matrix for Decision Tree after postpruning\n"
     ]
    },
    {
     "data": {
      "text/plain": [
       "             \n",
       "postprun.pred  0  1\n",
       "            0 40  2\n",
       "            1  0 78"
      ]
     },
     "metadata": {},
     "output_type": "display_data"
    },
    {
     "name": "stdout",
     "output_type": "stream",
     "text": [
      "Accuracy: 0.9833333 \n",
      "Sensitivity: 1 \n",
      "Specificity: 0.975 \n",
      "Positive Predictive Value(PPV): 0.952381 \n",
      "Negative Predictive Value(NPV): 1 \n",
      "False Positive Rate: 0.025 \n",
      "False Negative Rate: 0 \n"
     ]
    }
   ],
   "source": [
    "cat(\"Confusion Matrix for Decision Tree after postpruning\\n\")\n",
    "postprun.tab\n",
    "cat(\"Accuracy:\",Accuracy,\"\\n\")\n",
    "cat(\"Sensitivity:\",Sensitivity,\"\\n\")\n",
    "cat(\"Specificity:\",Specificity,\"\\n\")\n",
    "cat(\"Positive Predictive Value(PPV):\",PPV,\"\\n\")\n",
    "cat(\"Negative Predictive Value(NPV):\",NPV,\"\\n\")\n",
    "cat(\"False Positive Rate:\",FPR,\"\\n\")\n",
    "cat(\"False Negative Rate:\",FNR,\"\\n\")"
   ]
  },
  {
   "cell_type": "code",
   "execution_count": null,
   "metadata": {},
   "outputs": [],
   "source": []
  }
 ],
 "metadata": {
  "kernelspec": {
   "display_name": "R",
   "language": "R",
   "name": "ir"
  },
  "language_info": {
   "codemirror_mode": "r",
   "file_extension": ".r",
   "mimetype": "text/x-r-source",
   "name": "R",
   "pygments_lexer": "r",
   "version": "3.6.1"
  }
 },
 "nbformat": 4,
 "nbformat_minor": 4
}
