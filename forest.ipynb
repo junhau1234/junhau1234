{
 "cells": [
  {
   "cell_type": "code",
   "execution_count": 1,
   "metadata": {},
   "outputs": [
    {
     "name": "stdout",
     "output_type": "stream",
     "text": [
      "package 'randomForest' successfully unpacked and MD5 sums checked\n",
      "\n",
      "The downloaded binary packages are in\n",
      "\tC:\\Users\\JunHau96\\AppData\\Local\\Temp\\Rtmp6ND9rd\\downloaded_packages\n"
     ]
    },
    {
     "name": "stderr",
     "output_type": "stream",
     "text": [
      "Warning message:\n",
      "\"package 'randomForest' was built under R version 3.6.3\"randomForest 4.6-14\n",
      "Type rfNews() to see new features/changes/bug fixes.\n"
     ]
    }
   ],
   "source": [
    "install.packages(\"randomForest\")\n",
    "#library need \n",
    "library(randomForest)\n",
    "set.seed(123)\n",
    "setwd(\"C:/Users/JunHau96/Documents/PM_Assignment\")\n",
    "kd_cleaned = read.csv(\"cleaned_csv_result-chronic_kidney_disease_full.csv\")"
   ]
  },
  {
   "cell_type": "code",
   "execution_count": 2,
   "metadata": {},
   "outputs": [],
   "source": [
    "data1 = sort(sample(nrow(kd_cleaned), nrow(kd_cleaned)*.7))\n",
    "#creating training data set by selecting the output row values\n",
    "kd_train=kd_cleaned[data1,]\n",
    "\n",
    "#creating test data set by not selecting the output row values\n",
    "kd_test=kd_cleaned[-data1,]\n",
    "forest_train=kd_train\n",
    "forest_test=kd_test"
   ]
  },
  {
   "cell_type": "code",
   "execution_count": 3,
   "metadata": {},
   "outputs": [
    {
     "name": "stderr",
     "output_type": "stream",
     "text": [
      "Warning message in randomForest.default(m, y, ...):\n",
      "\"The response has five or fewer unique values.  Are you sure you want to do regression?\""
     ]
    },
    {
     "data": {
      "text/plain": [
       "\n",
       "Call:\n",
       " randomForest(formula = X.class. ~ . - X, data = forest_train,      , importance = TRUE) \n",
       "               Type of random forest: regression\n",
       "                     Number of trees: 500\n",
       "No. of variables tried at each split: 6\n",
       "\n",
       "          Mean of squared residuals: 0.006545747\n",
       "                    % Var explained: 97.26"
      ]
     },
     "metadata": {},
     "output_type": "display_data"
    }
   ],
   "source": [
    "bag.d1 = randomForest(X.class.~.-X,data=forest_train,,importance=TRUE)\n",
    "bag.d1"
   ]
  },
  {
   "cell_type": "code",
   "execution_count": 4,
   "metadata": {},
   "outputs": [],
   "source": [
    "prediction1 = predict(bag.d1, forest_test)\n",
    "matrix1 = table(prediction1, forest_test$X.class.)"
   ]
  },
  {
   "cell_type": "code",
   "execution_count": 5,
   "metadata": {},
   "outputs": [
    {
     "data": {
      "text/plain": [
       "                      \n",
       "prediction1             0  1\n",
       "  2.04081632651221e-05  2  0\n",
       "  2.04081632651238e-05  1  0\n",
       "  2.04081632651365e-05  1  0\n",
       "  2.04081632651456e-05  1  0\n",
       "  2.04081632651609e-05  1  0\n",
       "  0.000131519274376237  1  0\n",
       "  0.000520408163265137  1  0\n",
       "  0.000687074829931823  1  0\n",
       "  0.000820408163265145  1  0\n",
       "  0.00102040816326513   1  0\n",
       "  0.00102040816326514   2  0\n",
       "  0.00213151927437627   1  0\n",
       "  0.00279818594104291   1  0\n",
       "  0.00302040816326515   1  0\n",
       "  0.00308390022675722   1  0\n",
       "  0.00308707482993181   1  0\n",
       "  0.00335374149659847   1  0\n",
       "  0.0034537414965985    1  0\n",
       "  0.00368707482993182   1  0\n",
       "  0.00516485260770963   1  0\n",
       "  0.00542040816326521   1  0\n",
       "  0.00618707482993192   1  0\n",
       "  0.00952040816326523   1  0\n",
       "  0.00995374149659855   1  0\n",
       "  0.0110870748299319    1  0\n",
       "  0.0120870748299319    1  0\n",
       "  0.0144204081632653    1  0\n",
       "  0.014987074829932     1  0\n",
       "  0.0163537414965986    1  0\n",
       "  0.0201981859410431    1  0\n",
       "  0.0205537414965986    1  0\n",
       "  0.0211981859410431    1  0\n",
       "  0.021650566893424     1  0\n",
       "  0.0251537414965986    1  0\n",
       "  0.0491061224489796    1  0\n",
       "  0.1017                1  0\n",
       "  0.115887074829932     1  0\n",
       "  0.222063492063492     1  0\n",
       "  0.651666666666667     0  1\n",
       "  0.759833333333333     0  1\n",
       "  0.778866666666667     0  1\n",
       "  0.825677777777778     0  1\n",
       "  0.894887074829932     0  1\n",
       "  0.928766666666667     0  1\n",
       "  0.949666666666667     0  1\n",
       "  0.9664                0  1\n",
       "  0.968                 0  1\n",
       "  0.968866666666667     0  1\n",
       "  0.973466666666667     0  1\n",
       "  0.9756                0  1\n",
       "  0.977133333333333     0  1\n",
       "  0.98                  0  1\n",
       "  0.981266666666667     0  1\n",
       "  0.982666666666667     0  1\n",
       "  0.984633333333333     0  1\n",
       "  0.9847                0  1\n",
       "  0.9855                0  1\n",
       "  0.988666666666667     0  1\n",
       "  0.9901                0  1\n",
       "  0.990666666666667     0  1\n",
       "  0.9907                0  1\n",
       "  0.991233333333333     0  1\n",
       "  0.991833333333333     0  1\n",
       "  0.992933333333333     0  1\n",
       "  0.9931                0  1\n",
       "  0.9935                0  1\n",
       "  0.9941                0  1\n",
       "  0.995766666666667     0  1\n",
       "  0.996                 0  2\n",
       "  0.996166666666667     0  1\n",
       "  0.9965                0  1\n",
       "  0.996533333333333     0  1\n",
       "  0.9976                0  1\n",
       "  0.997666666666667     0  1\n",
       "  0.997833333333333     0  2\n",
       "  0.998                 0  3\n",
       "  0.998666666666667     0  1\n",
       "  0.9995                0  1\n",
       "  1                     0 36"
      ]
     },
     "metadata": {},
     "output_type": "display_data"
    }
   ],
   "source": [
    "matrix1"
   ]
  },
  {
   "cell_type": "code",
   "execution_count": 6,
   "metadata": {},
   "outputs": [
    {
     "data": {
      "text/html": [
       "<table>\n",
       "<thead><tr><th></th><th scope=col>%IncMSE</th><th scope=col>IncNodePurity</th></tr></thead>\n",
       "<tbody>\n",
       "\t<tr><th scope=row>X.age.</th><td> 3.550658e+00</td><td>5.191051e-01 </td></tr>\n",
       "\t<tr><th scope=row>X.bp.</th><td> 6.290349e+00</td><td>4.679153e-01 </td></tr>\n",
       "\t<tr><th scope=row>X.sg.</th><td> 4.915905e+01</td><td>1.423632e+01 </td></tr>\n",
       "\t<tr><th scope=row>X.al.</th><td> 2.951560e+01</td><td>1.419030e+01 </td></tr>\n",
       "\t<tr><th scope=row>X.su.</th><td> 1.098827e+01</td><td>5.425115e-01 </td></tr>\n",
       "\t<tr><th scope=row>X.pc.</th><td> 6.477863e+00</td><td>3.603317e-01 </td></tr>\n",
       "\t<tr><th scope=row>X.pcc.</th><td> 1.001002e+00</td><td>1.915834e-03 </td></tr>\n",
       "\t<tr><th scope=row>X.ba.</th><td>-7.812799e-38</td><td>7.327472e-17 </td></tr>\n",
       "\t<tr><th scope=row>X.bgr.</th><td> 9.097925e+00</td><td>9.326923e-01 </td></tr>\n",
       "\t<tr><th scope=row>X.bu.</th><td> 6.713922e+00</td><td>1.150934e+00 </td></tr>\n",
       "\t<tr><th scope=row>sc.</th><td> 2.741835e+01</td><td>1.481443e+01 </td></tr>\n",
       "\t<tr><th scope=row>X.sod.</th><td> 6.201764e+00</td><td>9.517236e-01 </td></tr>\n",
       "\t<tr><th scope=row>X.hemo.</th><td> 3.173079e+01</td><td>9.578527e+00 </td></tr>\n",
       "\t<tr><th scope=row>X.pcv.</th><td> 1.478888e+01</td><td>3.356101e+00 </td></tr>\n",
       "\t<tr><th scope=row>X.htn.</th><td> 9.517837e+00</td><td>2.269230e+00 </td></tr>\n",
       "\t<tr><th scope=row>X.dm.</th><td> 1.255681e+01</td><td>1.714615e+00 </td></tr>\n",
       "\t<tr><th scope=row>X.cad.</th><td> 3.482233e-02</td><td>1.956522e-03 </td></tr>\n",
       "\t<tr><th scope=row>X.appet.</th><td> 1.261806e+01</td><td>6.691063e-01 </td></tr>\n",
       "\t<tr><th scope=row>X.pe.</th><td> 6.147972e+00</td><td>3.132470e-01 </td></tr>\n",
       "\t<tr><th scope=row>X.ane.</th><td> 4.766063e+00</td><td>1.023624e-01 </td></tr>\n",
       "</tbody>\n",
       "</table>\n"
      ],
      "text/latex": [
       "\\begin{tabular}{r|ll}\n",
       "  & \\%IncMSE & IncNodePurity\\\\\n",
       "\\hline\n",
       "\tX.age. &  3.550658e+00 & 5.191051e-01 \\\\\n",
       "\tX.bp. &  6.290349e+00 & 4.679153e-01 \\\\\n",
       "\tX.sg. &  4.915905e+01 & 1.423632e+01 \\\\\n",
       "\tX.al. &  2.951560e+01 & 1.419030e+01 \\\\\n",
       "\tX.su. &  1.098827e+01 & 5.425115e-01 \\\\\n",
       "\tX.pc. &  6.477863e+00 & 3.603317e-01 \\\\\n",
       "\tX.pcc. &  1.001002e+00 & 1.915834e-03 \\\\\n",
       "\tX.ba. & -7.812799e-38 & 7.327472e-17 \\\\\n",
       "\tX.bgr. &  9.097925e+00 & 9.326923e-01 \\\\\n",
       "\tX.bu. &  6.713922e+00 & 1.150934e+00 \\\\\n",
       "\tsc. &  2.741835e+01 & 1.481443e+01 \\\\\n",
       "\tX.sod. &  6.201764e+00 & 9.517236e-01 \\\\\n",
       "\tX.hemo. &  3.173079e+01 & 9.578527e+00 \\\\\n",
       "\tX.pcv. &  1.478888e+01 & 3.356101e+00 \\\\\n",
       "\tX.htn. &  9.517837e+00 & 2.269230e+00 \\\\\n",
       "\tX.dm. &  1.255681e+01 & 1.714615e+00 \\\\\n",
       "\tX.cad. &  3.482233e-02 & 1.956522e-03 \\\\\n",
       "\tX.appet. &  1.261806e+01 & 6.691063e-01 \\\\\n",
       "\tX.pe. &  6.147972e+00 & 3.132470e-01 \\\\\n",
       "\tX.ane. &  4.766063e+00 & 1.023624e-01 \\\\\n",
       "\\end{tabular}\n"
      ],
      "text/markdown": [
       "\n",
       "| <!--/--> | %IncMSE | IncNodePurity |\n",
       "|---|---|---|\n",
       "| X.age. |  3.550658e+00 | 5.191051e-01  |\n",
       "| X.bp. |  6.290349e+00 | 4.679153e-01  |\n",
       "| X.sg. |  4.915905e+01 | 1.423632e+01  |\n",
       "| X.al. |  2.951560e+01 | 1.419030e+01  |\n",
       "| X.su. |  1.098827e+01 | 5.425115e-01  |\n",
       "| X.pc. |  6.477863e+00 | 3.603317e-01  |\n",
       "| X.pcc. |  1.001002e+00 | 1.915834e-03  |\n",
       "| X.ba. | -7.812799e-38 | 7.327472e-17  |\n",
       "| X.bgr. |  9.097925e+00 | 9.326923e-01  |\n",
       "| X.bu. |  6.713922e+00 | 1.150934e+00  |\n",
       "| sc. |  2.741835e+01 | 1.481443e+01  |\n",
       "| X.sod. |  6.201764e+00 | 9.517236e-01  |\n",
       "| X.hemo. |  3.173079e+01 | 9.578527e+00  |\n",
       "| X.pcv. |  1.478888e+01 | 3.356101e+00  |\n",
       "| X.htn. |  9.517837e+00 | 2.269230e+00  |\n",
       "| X.dm. |  1.255681e+01 | 1.714615e+00  |\n",
       "| X.cad. |  3.482233e-02 | 1.956522e-03  |\n",
       "| X.appet. |  1.261806e+01 | 6.691063e-01  |\n",
       "| X.pe. |  6.147972e+00 | 3.132470e-01  |\n",
       "| X.ane. |  4.766063e+00 | 1.023624e-01  |\n",
       "\n"
      ],
      "text/plain": [
       "         %IncMSE       IncNodePurity\n",
       "X.age.    3.550658e+00 5.191051e-01 \n",
       "X.bp.     6.290349e+00 4.679153e-01 \n",
       "X.sg.     4.915905e+01 1.423632e+01 \n",
       "X.al.     2.951560e+01 1.419030e+01 \n",
       "X.su.     1.098827e+01 5.425115e-01 \n",
       "X.pc.     6.477863e+00 3.603317e-01 \n",
       "X.pcc.    1.001002e+00 1.915834e-03 \n",
       "X.ba.    -7.812799e-38 7.327472e-17 \n",
       "X.bgr.    9.097925e+00 9.326923e-01 \n",
       "X.bu.     6.713922e+00 1.150934e+00 \n",
       "sc.       2.741835e+01 1.481443e+01 \n",
       "X.sod.    6.201764e+00 9.517236e-01 \n",
       "X.hemo.   3.173079e+01 9.578527e+00 \n",
       "X.pcv.    1.478888e+01 3.356101e+00 \n",
       "X.htn.    9.517837e+00 2.269230e+00 \n",
       "X.dm.     1.255681e+01 1.714615e+00 \n",
       "X.cad.    3.482233e-02 1.956522e-03 \n",
       "X.appet.  1.261806e+01 6.691063e-01 \n",
       "X.pe.     6.147972e+00 3.132470e-01 \n",
       "X.ane.    4.766063e+00 1.023624e-01 "
      ]
     },
     "metadata": {},
     "output_type": "display_data"
    },
    {
     "data": {
      "image/png": "[encoded data removed]",
      "text/plain": [
       "plot without title"
      ]
     },
     "metadata": {},
     "output_type": "display_data"
    }
   ],
   "source": [
    "importance(bag.d1)\n",
    "varImpPlot(bag.d1)"
   ]
  },
  {
   "cell_type": "code",
   "execution_count": 7,
   "metadata": {},
   "outputs": [],
   "source": [
    "#Finding the confusion matrix for forest\n",
    "confusion_table1= table(prediction1, forest_test$X.class.)\n",
    "Accuracy=sum(diag(confusion_table1))/sum(confusion_table1)\n",
    "Sensitivity=confusion_table1[1,1]/sum(confusion_table1[,1])\n",
    "Specificity=confusion_table1[2,2]/sum(confusion_table1[,2])\n",
    "PPV=confusion_table1[1,1]/sum(confusion_table1[1,])\n",
    "NPV=confusion_table1[2,2]/sum(confusion_table1[2,])\n",
    "FPR=1-Specificity\n",
    "FNR=1-Sensitivity\n"
   ]
  },
  {
   "cell_type": "code",
   "execution_count": 9,
   "metadata": {},
   "outputs": [
    {
     "name": "stdout",
     "output_type": "stream",
     "text": [
      "Confusion Matrix for Forest\n"
     ]
    },
    {
     "data": {
      "text/plain": [
       "                      \n",
       "prediction1             0  1\n",
       "  2.04081632651221e-05  2  0\n",
       "  2.04081632651238e-05  1  0\n",
       "  2.04081632651365e-05  1  0\n",
       "  2.04081632651456e-05  1  0\n",
       "  2.04081632651609e-05  1  0\n",
       "  0.000131519274376237  1  0\n",
       "  0.000520408163265137  1  0\n",
       "  0.000687074829931823  1  0\n",
       "  0.000820408163265145  1  0\n",
       "  0.00102040816326513   1  0\n",
       "  0.00102040816326514   2  0\n",
       "  0.00213151927437627   1  0\n",
       "  0.00279818594104291   1  0\n",
       "  0.00302040816326515   1  0\n",
       "  0.00308390022675722   1  0\n",
       "  0.00308707482993181   1  0\n",
       "  0.00335374149659847   1  0\n",
       "  0.0034537414965985    1  0\n",
       "  0.00368707482993182   1  0\n",
       "  0.00516485260770963   1  0\n",
       "  0.00542040816326521   1  0\n",
       "  0.00618707482993192   1  0\n",
       "  0.00952040816326523   1  0\n",
       "  0.00995374149659855   1  0\n",
       "  0.0110870748299319    1  0\n",
       "  0.0120870748299319    1  0\n",
       "  0.0144204081632653    1  0\n",
       "  0.014987074829932     1  0\n",
       "  0.0163537414965986    1  0\n",
       "  0.0201981859410431    1  0\n",
       "  0.0205537414965986    1  0\n",
       "  0.0211981859410431    1  0\n",
       "  0.021650566893424     1  0\n",
       "  0.0251537414965986    1  0\n",
       "  0.0491061224489796    1  0\n",
       "  0.1017                1  0\n",
       "  0.115887074829932     1  0\n",
       "  0.222063492063492     1  0\n",
       "  0.651666666666667     0  1\n",
       "  0.759833333333333     0  1\n",
       "  0.778866666666667     0  1\n",
       "  0.825677777777778     0  1\n",
       "  0.894887074829932     0  1\n",
       "  0.928766666666667     0  1\n",
       "  0.949666666666667     0  1\n",
       "  0.9664                0  1\n",
       "  0.968                 0  1\n",
       "  0.968866666666667     0  1\n",
       "  0.973466666666667     0  1\n",
       "  0.9756                0  1\n",
       "  0.977133333333333     0  1\n",
       "  0.98                  0  1\n",
       "  0.981266666666667     0  1\n",
       "  0.982666666666667     0  1\n",
       "  0.984633333333333     0  1\n",
       "  0.9847                0  1\n",
       "  0.9855                0  1\n",
       "  0.988666666666667     0  1\n",
       "  0.9901                0  1\n",
       "  0.990666666666667     0  1\n",
       "  0.9907                0  1\n",
       "  0.991233333333333     0  1\n",
       "  0.991833333333333     0  1\n",
       "  0.992933333333333     0  1\n",
       "  0.9931                0  1\n",
       "  0.9935                0  1\n",
       "  0.9941                0  1\n",
       "  0.995766666666667     0  1\n",
       "  0.996                 0  2\n",
       "  0.996166666666667     0  1\n",
       "  0.9965                0  1\n",
       "  0.996533333333333     0  1\n",
       "  0.9976                0  1\n",
       "  0.997666666666667     0  1\n",
       "  0.997833333333333     0  2\n",
       "  0.998                 0  3\n",
       "  0.998666666666667     0  1\n",
       "  0.9995                0  1\n",
       "  1                     0 36"
      ]
     },
     "metadata": {},
     "output_type": "display_data"
    },
    {
     "name": "stdout",
     "output_type": "stream",
     "text": [
      "Accuracy: 0.01666667 \n",
      "Sensitivity: 0.05 \n",
      "Specificity: 0 \n",
      "Positive Predictive Value(PPV): 1 \n",
      "Negative Predictive Value(NPV): 0 \n",
      "False Positive Rate: 1 \n",
      "False Negative Rate: 0.95 \n"
     ]
    }
   ],
   "source": [
    "cat(\"Confusion Matrix for Forest\\n\")\n",
    "confusion_table1\n",
    "cat(\"Accuracy:\",Accuracy,\"\\n\")\n",
    "cat(\"Sensitivity:\",Sensitivity,\"\\n\")\n",
    "cat(\"Specificity:\",Specificity,\"\\n\")\n",
    "cat(\"Positive Predictive Value(PPV):\",PPV,\"\\n\")\n",
    "cat(\"Negative Predictive Value(NPV):\",NPV,\"\\n\")\n",
    "cat(\"False Positive Rate:\",FPR,\"\\n\")\n",
    "cat(\"False Negative Rate:\",FNR,\"\\n\")"
   ]
  },
  {
   "cell_type": "code",
   "execution_count": null,
   "metadata": {},
   "outputs": [],
   "source": []
  }
 ],
 "metadata": {
  "kernelspec": {
   "display_name": "R",
   "language": "R",
   "name": "ir"
  },
  "language_info": {
   "codemirror_mode": "r",
   "file_extension": ".r",
   "mimetype": "text/x-r-source",
   "name": "R",
   "pygments_lexer": "r",
   "version": "3.6.1"
  }
 },
 "nbformat": 4,
 "nbformat_minor": 4
}
